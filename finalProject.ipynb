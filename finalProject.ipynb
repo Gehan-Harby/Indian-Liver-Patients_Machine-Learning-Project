{
 "cells": [
  {
   "cell_type": "markdown",
   "id": "d5e16f1b-8acf-4dea-8a1f-9135da7a9a0d",
   "metadata": {},
   "source": [
    "# Analysis and Prediction-Indian Liver Patients.\n",
    "The dataset was downloaded from the UCI ML Repository.\n",
    "https://archive.ics.uci.edu/ml/datasets/ILPD+(Indian+Liver+Patient+Dataset)#"
   ]
  },
  {
   "cell_type": "code",
   "execution_count": 82,
   "id": "d762e518-1203-4c1a-8398-48e144434abf",
   "metadata": {},
   "outputs": [],
   "source": [
    "import pandas as pd\n",
    "import numpy as np\n",
    "\n",
    "from sklearn.model_selection import train_test_split\n",
    "from sklearn.metrics import accuracy_score\n",
    "\n",
    "from sklearn.naive_bayes import GaussianNB, ComplementNB, BernoulliNB, MultinomialNB\n",
    "import matplotlib.pyplot as plt\n",
    "%matplotlib inline"
   ]
  },
  {
   "cell_type": "markdown",
   "id": "05657925-6d1b-409f-b8ad-c6555db413f8",
   "metadata": {},
   "source": [
    "# Reading DATASET"
   ]
  },
  {
   "cell_type": "code",
   "execution_count": 83,
   "id": "85e2230b-29de-496b-b1de-eeaaa59359e0",
   "metadata": {},
   "outputs": [],
   "source": [
    "data = pd.read_csv('indian_liver_patient.csv')"
   ]
  },
  {
   "cell_type": "code",
   "execution_count": 84,
   "id": "f7fa2f20-efe3-483d-a3fe-38e4b399a733",
   "metadata": {},
   "outputs": [
    {
     "data": {
      "text/html": [
       "<div>\n",
       "<style scoped>\n",
       "    .dataframe tbody tr th:only-of-type {\n",
       "        vertical-align: middle;\n",
       "    }\n",
       "\n",
       "    .dataframe tbody tr th {\n",
       "        vertical-align: top;\n",
       "    }\n",
       "\n",
       "    .dataframe thead th {\n",
       "        text-align: right;\n",
       "    }\n",
       "</style>\n",
       "<table border=\"1\" class=\"dataframe\">\n",
       "  <thead>\n",
       "    <tr style=\"text-align: right;\">\n",
       "      <th></th>\n",
       "      <th>Age</th>\n",
       "      <th>Gender</th>\n",
       "      <th>Total_Bilirubin</th>\n",
       "      <th>Direct_Bilirubin</th>\n",
       "      <th>Alkaline_Phosphotase</th>\n",
       "      <th>Alamine_Aminotransferase</th>\n",
       "      <th>Aspartate_Aminotransferase</th>\n",
       "      <th>Total_Protiens</th>\n",
       "      <th>Albumin</th>\n",
       "      <th>Albumin_and_Globulin_Ratio</th>\n",
       "      <th>Dataset</th>\n",
       "    </tr>\n",
       "  </thead>\n",
       "  <tbody>\n",
       "    <tr>\n",
       "      <th>0</th>\n",
       "      <td>65</td>\n",
       "      <td>Female</td>\n",
       "      <td>0.7</td>\n",
       "      <td>0.1</td>\n",
       "      <td>187</td>\n",
       "      <td>16</td>\n",
       "      <td>18</td>\n",
       "      <td>6.8</td>\n",
       "      <td>3.3</td>\n",
       "      <td>0.90</td>\n",
       "      <td>1</td>\n",
       "    </tr>\n",
       "    <tr>\n",
       "      <th>1</th>\n",
       "      <td>62</td>\n",
       "      <td>Male</td>\n",
       "      <td>10.9</td>\n",
       "      <td>5.5</td>\n",
       "      <td>699</td>\n",
       "      <td>64</td>\n",
       "      <td>100</td>\n",
       "      <td>7.5</td>\n",
       "      <td>3.2</td>\n",
       "      <td>0.74</td>\n",
       "      <td>1</td>\n",
       "    </tr>\n",
       "    <tr>\n",
       "      <th>2</th>\n",
       "      <td>62</td>\n",
       "      <td>Male</td>\n",
       "      <td>7.3</td>\n",
       "      <td>4.1</td>\n",
       "      <td>490</td>\n",
       "      <td>60</td>\n",
       "      <td>68</td>\n",
       "      <td>7.0</td>\n",
       "      <td>3.3</td>\n",
       "      <td>0.89</td>\n",
       "      <td>1</td>\n",
       "    </tr>\n",
       "    <tr>\n",
       "      <th>3</th>\n",
       "      <td>58</td>\n",
       "      <td>Male</td>\n",
       "      <td>1.0</td>\n",
       "      <td>0.4</td>\n",
       "      <td>182</td>\n",
       "      <td>14</td>\n",
       "      <td>20</td>\n",
       "      <td>6.8</td>\n",
       "      <td>3.4</td>\n",
       "      <td>1.00</td>\n",
       "      <td>1</td>\n",
       "    </tr>\n",
       "    <tr>\n",
       "      <th>4</th>\n",
       "      <td>72</td>\n",
       "      <td>Male</td>\n",
       "      <td>3.9</td>\n",
       "      <td>2.0</td>\n",
       "      <td>195</td>\n",
       "      <td>27</td>\n",
       "      <td>59</td>\n",
       "      <td>7.3</td>\n",
       "      <td>2.4</td>\n",
       "      <td>0.40</td>\n",
       "      <td>1</td>\n",
       "    </tr>\n",
       "  </tbody>\n",
       "</table>\n",
       "</div>"
      ],
      "text/plain": [
       "   Age  Gender  Total_Bilirubin  Direct_Bilirubin  Alkaline_Phosphotase  \\\n",
       "0   65  Female              0.7               0.1                   187   \n",
       "1   62    Male             10.9               5.5                   699   \n",
       "2   62    Male              7.3               4.1                   490   \n",
       "3   58    Male              1.0               0.4                   182   \n",
       "4   72    Male              3.9               2.0                   195   \n",
       "\n",
       "   Alamine_Aminotransferase  Aspartate_Aminotransferase  Total_Protiens  \\\n",
       "0                        16                          18             6.8   \n",
       "1                        64                         100             7.5   \n",
       "2                        60                          68             7.0   \n",
       "3                        14                          20             6.8   \n",
       "4                        27                          59             7.3   \n",
       "\n",
       "   Albumin  Albumin_and_Globulin_Ratio  Dataset  \n",
       "0      3.3                        0.90        1  \n",
       "1      3.2                        0.74        1  \n",
       "2      3.3                        0.89        1  \n",
       "3      3.4                        1.00        1  \n",
       "4      2.4                        0.40        1  "
      ]
     },
     "execution_count": 84,
     "metadata": {},
     "output_type": "execute_result"
    }
   ],
   "source": [
    "data.head()"
   ]
  },
  {
   "cell_type": "code",
   "execution_count": 85,
   "id": "f0767594-3d75-4c4c-8b7e-13d506dea361",
   "metadata": {},
   "outputs": [
    {
     "data": {
      "text/plain": [
       "Age                             int64\n",
       "Gender                         object\n",
       "Total_Bilirubin               float64\n",
       "Direct_Bilirubin              float64\n",
       "Alkaline_Phosphotase            int64\n",
       "Alamine_Aminotransferase        int64\n",
       "Aspartate_Aminotransferase      int64\n",
       "Total_Protiens                float64\n",
       "Albumin                       float64\n",
       "Albumin_and_Globulin_Ratio    float64\n",
       "Dataset                         int64\n",
       "dtype: object"
      ]
     },
     "execution_count": 85,
     "metadata": {},
     "output_type": "execute_result"
    }
   ],
   "source": [
    "data.dtypes"
   ]
  },
  {
   "cell_type": "code",
   "execution_count": 86,
   "id": "fcb29233-6a34-4e5f-ab3b-11d869bd6e2b",
   "metadata": {},
   "outputs": [
    {
     "name": "stdout",
     "output_type": "stream",
     "text": [
      "<class 'pandas.core.frame.DataFrame'>\n",
      "RangeIndex: 583 entries, 0 to 582\n",
      "Data columns (total 11 columns):\n",
      " #   Column                      Non-Null Count  Dtype  \n",
      "---  ------                      --------------  -----  \n",
      " 0   Age                         583 non-null    int64  \n",
      " 1   Gender                      583 non-null    object \n",
      " 2   Total_Bilirubin             583 non-null    float64\n",
      " 3   Direct_Bilirubin            583 non-null    float64\n",
      " 4   Alkaline_Phosphotase        583 non-null    int64  \n",
      " 5   Alamine_Aminotransferase    583 non-null    int64  \n",
      " 6   Aspartate_Aminotransferase  583 non-null    int64  \n",
      " 7   Total_Protiens              583 non-null    float64\n",
      " 8   Albumin                     583 non-null    float64\n",
      " 9   Albumin_and_Globulin_Ratio  579 non-null    float64\n",
      " 10  Dataset                     583 non-null    int64  \n",
      "dtypes: float64(5), int64(5), object(1)\n",
      "memory usage: 50.2+ KB\n"
     ]
    }
   ],
   "source": [
    "data.info()"
   ]
  },
  {
   "cell_type": "code",
   "execution_count": 87,
   "id": "a3484156-dff3-471b-8d39-48ea34703071",
   "metadata": {},
   "outputs": [
    {
     "data": {
      "text/plain": [
       "Age                           0\n",
       "Gender                        0\n",
       "Total_Bilirubin               0\n",
       "Direct_Bilirubin              0\n",
       "Alkaline_Phosphotase          0\n",
       "Alamine_Aminotransferase      0\n",
       "Aspartate_Aminotransferase    0\n",
       "Total_Protiens                0\n",
       "Albumin                       0\n",
       "Albumin_and_Globulin_Ratio    4\n",
       "Dataset                       0\n",
       "dtype: int64"
      ]
     },
     "execution_count": 87,
     "metadata": {},
     "output_type": "execute_result"
    }
   ],
   "source": [
    "data.isnull().sum(axis=0)"
   ]
  },
  {
   "cell_type": "code",
   "execution_count": 88,
   "id": "602c5be6-294b-451e-a35d-47060fd0f3e6",
   "metadata": {},
   "outputs": [
    {
     "data": {
      "text/plain": [
       "<AxesSubplot:>"
      ]
     },
     "execution_count": 88,
     "metadata": {},
     "output_type": "execute_result"
    },
    {
     "data": {
      "image/png": "[encoded data removed]",
      "text/plain": [
       "<Figure size 432x288 with 1 Axes>"
      ]
     },
     "metadata": {
      "needs_background": "light"
     },
     "output_type": "display_data"
    }
   ],
   "source": [
    "data.isnull().sum(axis=0).plot.bar()"
   ]
  },
  {
   "cell_type": "markdown",
   "id": "11e55c64-88ee-4be0-8fa1-b6ad34caba83",
   "metadata": {},
   "source": [
    "We can already see a few problems:\n",
    "1. Some columns (such as `gender') have non-numeric values. We should convert their values to become numeric.\n",
    "2. The `Albumin_and_Globulin_Ratio` column have `NaN` values which represent missing/unknown values. We should remove/fill this missing data."
   ]
  },
  {
   "cell_type": "code",
   "execution_count": 89,
   "id": "3ad1c1ae-f5c4-4df4-a73e-f7572ee837b2",
   "metadata": {},
   "outputs": [
    {
     "data": {
      "text/html": [
       "<div>\n",
       "<style scoped>\n",
       "    .dataframe tbody tr th:only-of-type {\n",
       "        vertical-align: middle;\n",
       "    }\n",
       "\n",
       "    .dataframe tbody tr th {\n",
       "        vertical-align: top;\n",
       "    }\n",
       "\n",
       "    .dataframe thead th {\n",
       "        text-align: right;\n",
       "    }\n",
       "</style>\n",
       "<table border=\"1\" class=\"dataframe\">\n",
       "  <thead>\n",
       "    <tr style=\"text-align: right;\">\n",
       "      <th></th>\n",
       "      <th>Age</th>\n",
       "      <th>Gender</th>\n",
       "      <th>Total_Bilirubin</th>\n",
       "      <th>Direct_Bilirubin</th>\n",
       "      <th>Alkaline_Phosphotase</th>\n",
       "      <th>Alamine_Aminotransferase</th>\n",
       "      <th>Aspartate_Aminotransferase</th>\n",
       "      <th>Total_Protiens</th>\n",
       "      <th>Albumin</th>\n",
       "      <th>Albumin_and_Globulin_Ratio</th>\n",
       "      <th>Dataset</th>\n",
       "    </tr>\n",
       "  </thead>\n",
       "  <tbody>\n",
       "    <tr>\n",
       "      <th>209</th>\n",
       "      <td>45</td>\n",
       "      <td>Female</td>\n",
       "      <td>0.9</td>\n",
       "      <td>0.3</td>\n",
       "      <td>189</td>\n",
       "      <td>23</td>\n",
       "      <td>33</td>\n",
       "      <td>6.6</td>\n",
       "      <td>3.9</td>\n",
       "      <td>NaN</td>\n",
       "      <td>1</td>\n",
       "    </tr>\n",
       "    <tr>\n",
       "      <th>241</th>\n",
       "      <td>51</td>\n",
       "      <td>Male</td>\n",
       "      <td>0.8</td>\n",
       "      <td>0.2</td>\n",
       "      <td>230</td>\n",
       "      <td>24</td>\n",
       "      <td>46</td>\n",
       "      <td>6.5</td>\n",
       "      <td>3.1</td>\n",
       "      <td>NaN</td>\n",
       "      <td>1</td>\n",
       "    </tr>\n",
       "    <tr>\n",
       "      <th>253</th>\n",
       "      <td>35</td>\n",
       "      <td>Female</td>\n",
       "      <td>0.6</td>\n",
       "      <td>0.2</td>\n",
       "      <td>180</td>\n",
       "      <td>12</td>\n",
       "      <td>15</td>\n",
       "      <td>5.2</td>\n",
       "      <td>2.7</td>\n",
       "      <td>NaN</td>\n",
       "      <td>2</td>\n",
       "    </tr>\n",
       "    <tr>\n",
       "      <th>312</th>\n",
       "      <td>27</td>\n",
       "      <td>Male</td>\n",
       "      <td>1.3</td>\n",
       "      <td>0.6</td>\n",
       "      <td>106</td>\n",
       "      <td>25</td>\n",
       "      <td>54</td>\n",
       "      <td>8.5</td>\n",
       "      <td>4.8</td>\n",
       "      <td>NaN</td>\n",
       "      <td>2</td>\n",
       "    </tr>\n",
       "  </tbody>\n",
       "</table>\n",
       "</div>"
      ],
      "text/plain": [
       "     Age  Gender  Total_Bilirubin  Direct_Bilirubin  Alkaline_Phosphotase  \\\n",
       "209   45  Female              0.9               0.3                   189   \n",
       "241   51    Male              0.8               0.2                   230   \n",
       "253   35  Female              0.6               0.2                   180   \n",
       "312   27    Male              1.3               0.6                   106   \n",
       "\n",
       "     Alamine_Aminotransferase  Aspartate_Aminotransferase  Total_Protiens  \\\n",
       "209                        23                          33             6.6   \n",
       "241                        24                          46             6.5   \n",
       "253                        12                          15             5.2   \n",
       "312                        25                          54             8.5   \n",
       "\n",
       "     Albumin  Albumin_and_Globulin_Ratio  Dataset  \n",
       "209      3.9                         NaN        1  \n",
       "241      3.1                         NaN        1  \n",
       "253      2.7                         NaN        2  \n",
       "312      4.8                         NaN        2  "
      ]
     },
     "execution_count": 89,
     "metadata": {},
     "output_type": "execute_result"
    }
   ],
   "source": [
    "data[data['Albumin_and_Globulin_Ratio'].isnull()]"
   ]
  },
  {
   "cell_type": "markdown",
   "id": "bebd8927-f289-4774-ae23-bfe4db4fe4f4",
   "metadata": {},
   "source": [
    "# Data Cleanning"
   ]
  },
  {
   "cell_type": "markdown",
   "id": "9525c239-59b5-4ab9-b0a7-0c575edcab89",
   "metadata": {},
   "source": [
    "# Data Size Before cleaning process"
   ]
  },
  {
   "cell_type": "code",
   "execution_count": 90,
   "id": "23d73f2d-cf78-42f0-a71f-5d8a062a7074",
   "metadata": {},
   "outputs": [
    {
     "name": "stdout",
     "output_type": "stream",
     "text": [
      "583\n"
     ]
    }
   ],
   "source": [
    "print(len(data))"
   ]
  },
  {
   "cell_type": "code",
   "execution_count": 91,
   "id": "2de7c3b5-6e25-4232-a27f-f1cf6ff9922e",
   "metadata": {},
   "outputs": [
    {
     "name": "stdout",
     "output_type": "stream",
     "text": [
      "     Age  Gender  Total_Bilirubin  Direct_Bilirubin  Alkaline_Phosphotase  \\\n",
      "0     65  Female              0.7               0.1                   187   \n",
      "1     62    Male             10.9               5.5                   699   \n",
      "2     62    Male              7.3               4.1                   490   \n",
      "3     58    Male              1.0               0.4                   182   \n",
      "4     72    Male              3.9               2.0                   195   \n",
      "..   ...     ...              ...               ...                   ...   \n",
      "578   60    Male              0.5               0.1                   500   \n",
      "579   40    Male              0.6               0.1                    98   \n",
      "580   52    Male              0.8               0.2                   245   \n",
      "581   31    Male              1.3               0.5                   184   \n",
      "582   38    Male              1.0               0.3                   216   \n",
      "\n",
      "     Alamine_Aminotransferase  Aspartate_Aminotransferase  Total_Protiens  \\\n",
      "0                          16                          18             6.8   \n",
      "1                          64                         100             7.5   \n",
      "2                          60                          68             7.0   \n",
      "3                          14                          20             6.8   \n",
      "4                          27                          59             7.3   \n",
      "..                        ...                         ...             ...   \n",
      "578                        20                          34             5.9   \n",
      "579                        35                          31             6.0   \n",
      "580                        48                          49             6.4   \n",
      "581                        29                          32             6.8   \n",
      "582                        21                          24             7.3   \n",
      "\n",
      "     Albumin  Albumin_and_Globulin_Ratio  Dataset  \n",
      "0        3.3                        0.90        1  \n",
      "1        3.2                        0.74        1  \n",
      "2        3.3                        0.89        1  \n",
      "3        3.4                        1.00        1  \n",
      "4        2.4                        0.40        1  \n",
      "..       ...                         ...      ...  \n",
      "578      1.6                        0.37        2  \n",
      "579      3.2                        1.10        1  \n",
      "580      3.2                        1.00        1  \n",
      "581      3.4                        1.00        1  \n",
      "582      4.4                        1.50        2  \n",
      "\n",
      "[579 rows x 11 columns]\n"
     ]
    }
   ],
   "source": [
    "# Replace infinite updated data with nan\n",
    "data.replace([np.inf, -np.inf], np.nan, inplace=True)\n",
    "# Drop rows with NaN\n",
    "data.dropna(inplace=True)\n",
    "print(data)"
   ]
  },
  {
   "cell_type": "code",
   "execution_count": 92,
   "id": "17d8182e-7c83-46e7-93bb-8c0999ea7b6c",
   "metadata": {},
   "outputs": [
    {
     "data": {
      "text/plain": [
       "Age                           0\n",
       "Gender                        0\n",
       "Total_Bilirubin               0\n",
       "Direct_Bilirubin              0\n",
       "Alkaline_Phosphotase          0\n",
       "Alamine_Aminotransferase      0\n",
       "Aspartate_Aminotransferase    0\n",
       "Total_Protiens                0\n",
       "Albumin                       0\n",
       "Albumin_and_Globulin_Ratio    0\n",
       "Dataset                       0\n",
       "dtype: int64"
      ]
     },
     "execution_count": 92,
     "metadata": {},
     "output_type": "execute_result"
    }
   ],
   "source": [
    "data.isnull().sum(axis=0)"
   ]
  },
  {
   "cell_type": "markdown",
   "id": "5d20c5b6-d618-44f1-95f6-a4a928dc267b",
   "metadata": {},
   "source": [
    "# Data Size After cleanning process of nan values"
   ]
  },
  {
   "cell_type": "code",
   "execution_count": 93,
   "id": "033c0277-6f03-443d-8f57-cd45ac618f47",
   "metadata": {},
   "outputs": [
    {
     "name": "stdout",
     "output_type": "stream",
     "text": [
      "579\n"
     ]
    }
   ],
   "source": [
    "print(len(data))"
   ]
  },
  {
   "cell_type": "markdown",
   "id": "1a7121e2-33e2-4209-aaaf-af9f9e1700af",
   "metadata": {},
   "source": [
    "# Encoding of non-numeric values\n",
    "We need to convert non-numeric values to numeric values. But first, we need to understand the type of each non-numeric column. There are mainly 3 types:\n",
    "1. Binary: The column contains only 2 types of values (example: married: yes/no).\n",
    "2. Nominal: The column contains more than 2 types of values; The values can't have a specific order (example: country: Egypt/France/UK).\n",
    "3. Ordinal: The column contains more than 2 types of values; The values have a specific order (example: size: small/medium/large).\n",
    "\n",
    "To determine the type of each non-numeric column, we need to know what unique values does each column contain"
   ]
  },
  {
   "cell_type": "code",
   "execution_count": 94,
   "id": "41eeed8c-b516-40e2-ae70-49420b2a90a8",
   "metadata": {},
   "outputs": [
    {
     "name": "stdout",
     "output_type": "stream",
     "text": [
      "Gender ['Female' 'Male']\n"
     ]
    }
   ],
   "source": [
    "for col in ['Gender']:\n",
    "    print(col, data[col].unique())"
   ]
  },
  {
   "cell_type": "markdown",
   "id": "4c36853d-0712-45c6-a7b2-cd8304b1aea3",
   "metadata": {},
   "source": [
    "We can see the following:\n",
    "- The columns `Gender` are binary values"
   ]
  },
  {
   "cell_type": "markdown",
   "id": "c45c57b6-dce6-400c-afbf-14b14d35eb29",
   "metadata": {},
   "source": [
    "Then we use pd.get_dummies() to convert the non-numeric columns to one-hot encoding"
   ]
  },
  {
   "cell_type": "code",
   "execution_count": 95,
   "id": "62ff9596-1520-462e-b3fb-e7e30e5057b8",
   "metadata": {},
   "outputs": [
    {
     "data": {
      "text/html": [
       "<div>\n",
       "<style scoped>\n",
       "    .dataframe tbody tr th:only-of-type {\n",
       "        vertical-align: middle;\n",
       "    }\n",
       "\n",
       "    .dataframe tbody tr th {\n",
       "        vertical-align: top;\n",
       "    }\n",
       "\n",
       "    .dataframe thead th {\n",
       "        text-align: right;\n",
       "    }\n",
       "</style>\n",
       "<table border=\"1\" class=\"dataframe\">\n",
       "  <thead>\n",
       "    <tr style=\"text-align: right;\">\n",
       "      <th></th>\n",
       "      <th>Age</th>\n",
       "      <th>Total_Bilirubin</th>\n",
       "      <th>Direct_Bilirubin</th>\n",
       "      <th>Alkaline_Phosphotase</th>\n",
       "      <th>Alamine_Aminotransferase</th>\n",
       "      <th>Aspartate_Aminotransferase</th>\n",
       "      <th>Total_Protiens</th>\n",
       "      <th>Albumin</th>\n",
       "      <th>Albumin_and_Globulin_Ratio</th>\n",
       "      <th>Dataset</th>\n",
       "      <th>Gender_Female</th>\n",
       "      <th>Gender_Male</th>\n",
       "    </tr>\n",
       "  </thead>\n",
       "  <tbody>\n",
       "    <tr>\n",
       "      <th>0</th>\n",
       "      <td>65</td>\n",
       "      <td>0.7</td>\n",
       "      <td>0.1</td>\n",
       "      <td>187</td>\n",
       "      <td>16</td>\n",
       "      <td>18</td>\n",
       "      <td>6.8</td>\n",
       "      <td>3.3</td>\n",
       "      <td>0.90</td>\n",
       "      <td>1</td>\n",
       "      <td>1</td>\n",
       "      <td>0</td>\n",
       "    </tr>\n",
       "    <tr>\n",
       "      <th>1</th>\n",
       "      <td>62</td>\n",
       "      <td>10.9</td>\n",
       "      <td>5.5</td>\n",
       "      <td>699</td>\n",
       "      <td>64</td>\n",
       "      <td>100</td>\n",
       "      <td>7.5</td>\n",
       "      <td>3.2</td>\n",
       "      <td>0.74</td>\n",
       "      <td>1</td>\n",
       "      <td>0</td>\n",
       "      <td>1</td>\n",
       "    </tr>\n",
       "    <tr>\n",
       "      <th>2</th>\n",
       "      <td>62</td>\n",
       "      <td>7.3</td>\n",
       "      <td>4.1</td>\n",
       "      <td>490</td>\n",
       "      <td>60</td>\n",
       "      <td>68</td>\n",
       "      <td>7.0</td>\n",
       "      <td>3.3</td>\n",
       "      <td>0.89</td>\n",
       "      <td>1</td>\n",
       "      <td>0</td>\n",
       "      <td>1</td>\n",
       "    </tr>\n",
       "    <tr>\n",
       "      <th>3</th>\n",
       "      <td>58</td>\n",
       "      <td>1.0</td>\n",
       "      <td>0.4</td>\n",
       "      <td>182</td>\n",
       "      <td>14</td>\n",
       "      <td>20</td>\n",
       "      <td>6.8</td>\n",
       "      <td>3.4</td>\n",
       "      <td>1.00</td>\n",
       "      <td>1</td>\n",
       "      <td>0</td>\n",
       "      <td>1</td>\n",
       "    </tr>\n",
       "    <tr>\n",
       "      <th>4</th>\n",
       "      <td>72</td>\n",
       "      <td>3.9</td>\n",
       "      <td>2.0</td>\n",
       "      <td>195</td>\n",
       "      <td>27</td>\n",
       "      <td>59</td>\n",
       "      <td>7.3</td>\n",
       "      <td>2.4</td>\n",
       "      <td>0.40</td>\n",
       "      <td>1</td>\n",
       "      <td>0</td>\n",
       "      <td>1</td>\n",
       "    </tr>\n",
       "  </tbody>\n",
       "</table>\n",
       "</div>"
      ],
      "text/plain": [
       "   Age  Total_Bilirubin  Direct_Bilirubin  Alkaline_Phosphotase  \\\n",
       "0   65              0.7               0.1                   187   \n",
       "1   62             10.9               5.5                   699   \n",
       "2   62              7.3               4.1                   490   \n",
       "3   58              1.0               0.4                   182   \n",
       "4   72              3.9               2.0                   195   \n",
       "\n",
       "   Alamine_Aminotransferase  Aspartate_Aminotransferase  Total_Protiens  \\\n",
       "0                        16                          18             6.8   \n",
       "1                        64                         100             7.5   \n",
       "2                        60                          68             7.0   \n",
       "3                        14                          20             6.8   \n",
       "4                        27                          59             7.3   \n",
       "\n",
       "   Albumin  Albumin_and_Globulin_Ratio  Dataset  Gender_Female  Gender_Male  \n",
       "0      3.3                        0.90        1              1            0  \n",
       "1      3.2                        0.74        1              0            1  \n",
       "2      3.3                        0.89        1              0            1  \n",
       "3      3.4                        1.00        1              0            1  \n",
       "4      2.4                        0.40        1              0            1  "
      ]
     },
     "execution_count": 95,
     "metadata": {},
     "output_type": "execute_result"
    }
   ],
   "source": [
    "data_encoded_final = pd.get_dummies(data)\n",
    "\n",
    "data_encoded_final.head()"
   ]
  },
  {
   "cell_type": "markdown",
   "id": "c926a084-c20c-4df0-ba0d-ad7548ca8db1",
   "metadata": {},
   "source": [
    "If there are too many columns, we can't see all of them using `data_encoded_final.head()`. Instead, we can use `data_encoded_final.dtypes` to display column names and their data types. We notice that all columns have become numeric."
   ]
  },
  {
   "cell_type": "code",
   "execution_count": 96,
   "id": "7bc261f7-9a1e-40ed-a58f-564825837b58",
   "metadata": {},
   "outputs": [
    {
     "data": {
      "text/plain": [
       "Age                             int64\n",
       "Total_Bilirubin               float64\n",
       "Direct_Bilirubin              float64\n",
       "Alkaline_Phosphotase            int64\n",
       "Alamine_Aminotransferase        int64\n",
       "Aspartate_Aminotransferase      int64\n",
       "Total_Protiens                float64\n",
       "Albumin                       float64\n",
       "Albumin_and_Globulin_Ratio    float64\n",
       "Dataset                         int64\n",
       "Gender_Female                   uint8\n",
       "Gender_Male                     uint8\n",
       "dtype: object"
      ]
     },
     "execution_count": 96,
     "metadata": {},
     "output_type": "execute_result"
    }
   ],
   "source": [
    "data_encoded_final.dtypes"
   ]
  },
  {
   "cell_type": "markdown",
   "id": "1162311c-6ad3-4804-a0bb-c2ed7cac2115",
   "metadata": {},
   "source": [
    "# Checking for imbalanced output"
   ]
  },
  {
   "cell_type": "code",
   "execution_count": 97,
   "id": "c52d7d8a-d086-4aea-832a-30381c55a618",
   "metadata": {},
   "outputs": [
    {
     "data": {
      "text/plain": [
       "1    414\n",
       "2    165\n",
       "Name: Dataset, dtype: int64"
      ]
     },
     "execution_count": 97,
     "metadata": {},
     "output_type": "execute_result"
    }
   ],
   "source": [
    "data['Dataset'].value_counts()"
   ]
  },
  {
   "cell_type": "markdown",
   "id": "8d5f8136-2475-43fe-b85c-bcd7980095c6",
   "metadata": {},
   "source": [
    "Number of records after deleting nan values :579\n",
    "\n",
    "Number of patients likely to have liver disease: 414\n",
    "\n",
    "Number of patients unlikely to have liver disease: 165\n",
    "\n",
    "Percentage of patients likely to have liver disease = (n_records_liv_pos/n_records)*100= 71.5%"
   ]
  },
  {
   "cell_type": "code",
   "execution_count": 98,
   "id": "2b00e7f1-8b88-40d7-a92f-b6bf80927a76",
   "metadata": {},
   "outputs": [
    {
     "data": {
      "text/plain": [
       "<AxesSubplot:>"
      ]
     },
     "execution_count": 98,
     "metadata": {},
     "output_type": "execute_result"
    },
    {
     "data": {
      "image/png": "[encoded data removed]",
      "text/plain": [
       "<Figure size 432x288 with 1 Axes>"
      ]
     },
     "metadata": {
      "needs_background": "light"
     },
     "output_type": "display_data"
    }
   ],
   "source": [
    "data['Dataset'].value_counts().sort_index().plot.bar()"
   ]
  },
  {
   "cell_type": "markdown",
   "id": "079337e0-10bf-4828-98e1-ebab076baea8",
   "metadata": {},
   "source": [
    "The output is imbalanced with class 1 $\\gg$ class 2"
   ]
  },
  {
   "cell_type": "code",
   "execution_count": 99,
   "id": "32537b05-b594-4e70-998f-b3be700a863e",
   "metadata": {},
   "outputs": [
    {
     "data": {
      "text/plain": [
       "Male      439\n",
       "Female    140\n",
       "Name: Gender, dtype: int64"
      ]
     },
     "execution_count": 99,
     "metadata": {},
     "output_type": "execute_result"
    }
   ],
   "source": [
    "data['Gender'].value_counts()"
   ]
  },
  {
   "cell_type": "code",
   "execution_count": 100,
   "id": "80cb0984-2496-424b-ae08-ff94cee26bdf",
   "metadata": {},
   "outputs": [
    {
     "data": {
      "text/plain": [
       "<AxesSubplot:>"
      ]
     },
     "execution_count": 100,
     "metadata": {},
     "output_type": "execute_result"
    },
    {
     "data": {
      "image/png": "[encoded data removed]",
      "text/plain": [
       "<Figure size 432x288 with 1 Axes>"
      ]
     },
     "metadata": {
      "needs_background": "light"
     },
     "output_type": "display_data"
    }
   ],
   "source": [
    "data['Gender'].value_counts().sort_index().plot.bar()"
   ]
  },
  {
   "cell_type": "markdown",
   "id": "3c2e4200-0617-4994-b6ee-0114109ae79b",
   "metadata": {},
   "source": [
    "# Splitting data into input and output\n",
    "- The input consists of all columns.\n",
    "- The output is the `Dataset` column."
   ]
  },
  {
   "cell_type": "code",
   "execution_count": 101,
   "id": "e5203cca-d77c-45c7-b74f-11ed34c6d8d0",
   "metadata": {},
   "outputs": [],
   "source": [
    "data_input = data_encoded_final.drop(columns=['Dataset'])\n",
    "data_output = data_encoded_final['Dataset']"
   ]
  },
  {
   "cell_type": "markdown",
   "id": "f4ddf8d5-0061-4764-9ade-7089b01a10ed",
   "metadata": {},
   "source": [
    "# Splitting data into train, validation, and test"
   ]
  },
  {
   "cell_type": "code",
   "execution_count": 102,
   "id": "15a06ba4-59b3-46c0-96ed-ee1780a5e8a7",
   "metadata": {},
   "outputs": [
    {
     "name": "stdout",
     "output_type": "stream",
     "text": [
      "X_train: (283, 11)\n",
      "y_train: (283,)\n",
      "-------------------------\n",
      "X_val: (122, 11)\n",
      "y_val: (122,)\n",
      "-------------------------\n",
      "X_test: (174, 11)\n",
      "y_test: (174,)\n"
     ]
    }
   ],
   "source": [
    "X, X_test, y, y_test = train_test_split(\n",
    "    data_input, data_output, test_size=0.30, random_state=0\n",
    ")\n",
    "\n",
    "X_train, X_val, y_train, y_val = train_test_split(\n",
    "    X, y, test_size=0.30, random_state=0\n",
    ")\n",
    "\n",
    "print('X_train:', X_train.shape)\n",
    "print('y_train:', y_train.shape)\n",
    "print('-------------------------')\n",
    "print('X_val:', X_val.shape)\n",
    "print('y_val:', y_val.shape)\n",
    "print('-------------------------')\n",
    "print('X_test:', X_test.shape)\n",
    "print('y_test:', y_test.shape)"
   ]
  },
  {
   "cell_type": "markdown",
   "id": "b4cf610b-9923-42a3-849f-daafcc4e2510",
   "metadata": {},
   "source": [
    "# Solving the problem of imbalanced data\n",
    "Displaying output value counts for our training set"
   ]
  },
  {
   "cell_type": "code",
   "execution_count": 103,
   "id": "467f22f5-bcff-40f4-90b0-e17fc43ac0ce",
   "metadata": {},
   "outputs": [],
   "source": [
    "from imblearn.under_sampling import RandomUnderSampler\n",
    "\n",
    "rus = RandomUnderSampler(sampling_strategy=0.5, random_state=0)\n",
    "#(0)->معناه انه كل مرة هيمسح random\n",
    "#(1)->معناها انه هيسمح من الكبير لحد ما يبقي أد الصغير"
   ]
  },
  {
   "cell_type": "code",
   "execution_count": 104,
   "id": "1cb80aa0-0710-4bfe-98d9-29a90ffbbdf8",
   "metadata": {},
   "outputs": [
    {
     "data": {
      "text/plain": [
       "1    162\n",
       "2     81\n",
       "Name: Dataset, dtype: int64"
      ]
     },
     "execution_count": 104,
     "metadata": {},
     "output_type": "execute_result"
    }
   ],
   "source": [
    "X_train_rus, y_train_rus = rus.fit_resample(X_train, y_train)\n",
    "\n",
    "y_train_rus.value_counts()"
   ]
  },
  {
   "cell_type": "code",
   "execution_count": 105,
   "id": "688e7830-50a1-4a15-b7ef-28ed34c521c8",
   "metadata": {},
   "outputs": [
    {
     "data": {
      "text/plain": [
       "1    162\n",
       "2    162\n",
       "Name: Dataset, dtype: int64"
      ]
     },
     "execution_count": 105,
     "metadata": {},
     "output_type": "execute_result"
    }
   ],
   "source": [
    "from imblearn.over_sampling import RandomOverSampler\n",
    "\n",
    "ros = RandomOverSampler(sampling_strategy=1.0, random_state=0)\n",
    "\n",
    "X_train_balanced, y_train_balanced = ros.fit_resample(X_train_rus, y_train_rus)\n",
    "\n",
    "# Uncomment the following line if you want to see the difference when the data is not balanced\n",
    "#X_train_balanced, y_train_balanced = X_train, y_train\n",
    "\n",
    "y_train_balanced.value_counts()"
   ]
  },
  {
   "cell_type": "markdown",
   "id": "df14b638-c88e-417c-858e-d2f24d1c0588",
   "metadata": {},
   "source": [
    "# >>Model selection"
   ]
  },
  {
   "cell_type": "markdown",
   "id": "9d818561-0995-4b49-89c6-085cc9ebb5ea",
   "metadata": {},
   "source": [
    "# >> 1.First Algorithim is KNN"
   ]
  },
  {
   "cell_type": "code",
   "execution_count": 106,
   "id": "c85ccbc0-2e0e-4f45-9aed-ea32eecb332f",
   "metadata": {},
   "outputs": [],
   "source": [
    "from sklearn.neighbors import KNeighborsClassifier\n",
    "\n",
    "model2 = KNeighborsClassifier(n_neighbors = 100) # n_neighbors is k\n",
    "model2.fit(X_train, y_train)\n",
    "y_pred_train = model2.predict(X_train)\n",
    "y_pred_val = model2.predict(X_val)"
   ]
  },
  {
   "cell_type": "code",
   "execution_count": 107,
   "id": "90d4a112-56aa-43c2-9e8e-75bcb182a8ff",
   "metadata": {},
   "outputs": [
    {
     "name": "stdout",
     "output_type": "stream",
     "text": [
      "accuracy_train = 0.7137809187279152\n",
      "accuracy_val = 0.7377049180327869\n"
     ]
    }
   ],
   "source": [
    "accuracy_train = accuracy_score(y_train, y_pred_train)\n",
    "accuracy_val = accuracy_score(y_val, y_pred_val)\n",
    "\n",
    "print('accuracy_train =', accuracy_train)\n",
    "print('accuracy_val =', accuracy_val)"
   ]
  },
  {
   "cell_type": "code",
   "execution_count": 108,
   "id": "fac21150-86a6-4827-a38e-c871c1844e79",
   "metadata": {},
   "outputs": [],
   "source": [
    "n_neighbours_values = list(range(1, 31))\n",
    "accuracy_train_values = []\n",
    "accuracy_val_values = []\n",
    "\n",
    "for n_neighbours in n_neighbours_values:\n",
    "    model2 = KNeighborsClassifier(n_neighbors = n_neighbours)\n",
    "    model2.fit(X_train, y_train)\n",
    "    y_pred_train = model2.predict(X_train)\n",
    "    y_pred_val = model2.predict(X_val)\n",
    "    accuracy_train = accuracy_score(y_train, y_pred_train)\n",
    "    accuracy_val = accuracy_score(y_val, y_pred_val)\n",
    "    accuracy_train_values.append(accuracy_train)\n",
    "    accuracy_val_values.append(accuracy_val)\n",
    "    \n",
    "results = pd.DataFrame({\n",
    "    'n_neighbours': n_neighbours_values,\n",
    "    'accuracy_train': accuracy_train_values,\n",
    "    'accuracy_val': accuracy_val_values\n",
    "})"
   ]
  },
  {
   "cell_type": "code",
   "execution_count": 109,
   "id": "71b568b2-fb6c-49e0-9ec3-2d6fe3316562",
   "metadata": {},
   "outputs": [
    {
     "data": {
      "text/html": [
       "<div>\n",
       "<style scoped>\n",
       "    .dataframe tbody tr th:only-of-type {\n",
       "        vertical-align: middle;\n",
       "    }\n",
       "\n",
       "    .dataframe tbody tr th {\n",
       "        vertical-align: top;\n",
       "    }\n",
       "\n",
       "    .dataframe thead th {\n",
       "        text-align: right;\n",
       "    }\n",
       "</style>\n",
       "<table border=\"1\" class=\"dataframe\">\n",
       "  <thead>\n",
       "    <tr style=\"text-align: right;\">\n",
       "      <th></th>\n",
       "      <th>n_neighbours</th>\n",
       "      <th>accuracy_train</th>\n",
       "      <th>accuracy_val</th>\n",
       "    </tr>\n",
       "  </thead>\n",
       "  <tbody>\n",
       "    <tr>\n",
       "      <th>0</th>\n",
       "      <td>1</td>\n",
       "      <td>1.000000</td>\n",
       "      <td>0.606557</td>\n",
       "    </tr>\n",
       "    <tr>\n",
       "      <th>1</th>\n",
       "      <td>2</td>\n",
       "      <td>0.826855</td>\n",
       "      <td>0.704918</td>\n",
       "    </tr>\n",
       "    <tr>\n",
       "      <th>2</th>\n",
       "      <td>3</td>\n",
       "      <td>0.830389</td>\n",
       "      <td>0.663934</td>\n",
       "    </tr>\n",
       "    <tr>\n",
       "      <th>3</th>\n",
       "      <td>4</td>\n",
       "      <td>0.798587</td>\n",
       "      <td>0.729508</td>\n",
       "    </tr>\n",
       "    <tr>\n",
       "      <th>4</th>\n",
       "      <td>5</td>\n",
       "      <td>0.773852</td>\n",
       "      <td>0.663934</td>\n",
       "    </tr>\n",
       "    <tr>\n",
       "      <th>5</th>\n",
       "      <td>6</td>\n",
       "      <td>0.759717</td>\n",
       "      <td>0.713115</td>\n",
       "    </tr>\n",
       "    <tr>\n",
       "      <th>6</th>\n",
       "      <td>7</td>\n",
       "      <td>0.745583</td>\n",
       "      <td>0.696721</td>\n",
       "    </tr>\n",
       "    <tr>\n",
       "      <th>7</th>\n",
       "      <td>8</td>\n",
       "      <td>0.745583</td>\n",
       "      <td>0.696721</td>\n",
       "    </tr>\n",
       "    <tr>\n",
       "      <th>8</th>\n",
       "      <td>9</td>\n",
       "      <td>0.734982</td>\n",
       "      <td>0.696721</td>\n",
       "    </tr>\n",
       "    <tr>\n",
       "      <th>9</th>\n",
       "      <td>10</td>\n",
       "      <td>0.742049</td>\n",
       "      <td>0.696721</td>\n",
       "    </tr>\n",
       "    <tr>\n",
       "      <th>10</th>\n",
       "      <td>11</td>\n",
       "      <td>0.749117</td>\n",
       "      <td>0.704918</td>\n",
       "    </tr>\n",
       "    <tr>\n",
       "      <th>11</th>\n",
       "      <td>12</td>\n",
       "      <td>0.749117</td>\n",
       "      <td>0.729508</td>\n",
       "    </tr>\n",
       "    <tr>\n",
       "      <th>12</th>\n",
       "      <td>13</td>\n",
       "      <td>0.742049</td>\n",
       "      <td>0.704918</td>\n",
       "    </tr>\n",
       "    <tr>\n",
       "      <th>13</th>\n",
       "      <td>14</td>\n",
       "      <td>0.731449</td>\n",
       "      <td>0.721311</td>\n",
       "    </tr>\n",
       "    <tr>\n",
       "      <th>14</th>\n",
       "      <td>15</td>\n",
       "      <td>0.724382</td>\n",
       "      <td>0.713115</td>\n",
       "    </tr>\n",
       "    <tr>\n",
       "      <th>15</th>\n",
       "      <td>16</td>\n",
       "      <td>0.724382</td>\n",
       "      <td>0.704918</td>\n",
       "    </tr>\n",
       "    <tr>\n",
       "      <th>16</th>\n",
       "      <td>17</td>\n",
       "      <td>0.713781</td>\n",
       "      <td>0.721311</td>\n",
       "    </tr>\n",
       "    <tr>\n",
       "      <th>17</th>\n",
       "      <td>18</td>\n",
       "      <td>0.727915</td>\n",
       "      <td>0.721311</td>\n",
       "    </tr>\n",
       "    <tr>\n",
       "      <th>18</th>\n",
       "      <td>19</td>\n",
       "      <td>0.717314</td>\n",
       "      <td>0.713115</td>\n",
       "    </tr>\n",
       "    <tr>\n",
       "      <th>19</th>\n",
       "      <td>20</td>\n",
       "      <td>0.717314</td>\n",
       "      <td>0.721311</td>\n",
       "    </tr>\n",
       "    <tr>\n",
       "      <th>20</th>\n",
       "      <td>21</td>\n",
       "      <td>0.713781</td>\n",
       "      <td>0.729508</td>\n",
       "    </tr>\n",
       "    <tr>\n",
       "      <th>21</th>\n",
       "      <td>22</td>\n",
       "      <td>0.731449</td>\n",
       "      <td>0.737705</td>\n",
       "    </tr>\n",
       "    <tr>\n",
       "      <th>22</th>\n",
       "      <td>23</td>\n",
       "      <td>0.720848</td>\n",
       "      <td>0.729508</td>\n",
       "    </tr>\n",
       "    <tr>\n",
       "      <th>23</th>\n",
       "      <td>24</td>\n",
       "      <td>0.713781</td>\n",
       "      <td>0.737705</td>\n",
       "    </tr>\n",
       "    <tr>\n",
       "      <th>24</th>\n",
       "      <td>25</td>\n",
       "      <td>0.713781</td>\n",
       "      <td>0.721311</td>\n",
       "    </tr>\n",
       "    <tr>\n",
       "      <th>25</th>\n",
       "      <td>26</td>\n",
       "      <td>0.713781</td>\n",
       "      <td>0.704918</td>\n",
       "    </tr>\n",
       "    <tr>\n",
       "      <th>26</th>\n",
       "      <td>27</td>\n",
       "      <td>0.724382</td>\n",
       "      <td>0.713115</td>\n",
       "    </tr>\n",
       "    <tr>\n",
       "      <th>27</th>\n",
       "      <td>28</td>\n",
       "      <td>0.710247</td>\n",
       "      <td>0.696721</td>\n",
       "    </tr>\n",
       "    <tr>\n",
       "      <th>28</th>\n",
       "      <td>29</td>\n",
       "      <td>0.713781</td>\n",
       "      <td>0.721311</td>\n",
       "    </tr>\n",
       "    <tr>\n",
       "      <th>29</th>\n",
       "      <td>30</td>\n",
       "      <td>0.713781</td>\n",
       "      <td>0.721311</td>\n",
       "    </tr>\n",
       "  </tbody>\n",
       "</table>\n",
       "</div>"
      ],
      "text/plain": [
       "    n_neighbours  accuracy_train  accuracy_val\n",
       "0              1        1.000000      0.606557\n",
       "1              2        0.826855      0.704918\n",
       "2              3        0.830389      0.663934\n",
       "3              4        0.798587      0.729508\n",
       "4              5        0.773852      0.663934\n",
       "5              6        0.759717      0.713115\n",
       "6              7        0.745583      0.696721\n",
       "7              8        0.745583      0.696721\n",
       "8              9        0.734982      0.696721\n",
       "9             10        0.742049      0.696721\n",
       "10            11        0.749117      0.704918\n",
       "11            12        0.749117      0.729508\n",
       "12            13        0.742049      0.704918\n",
       "13            14        0.731449      0.721311\n",
       "14            15        0.724382      0.713115\n",
       "15            16        0.724382      0.704918\n",
       "16            17        0.713781      0.721311\n",
       "17            18        0.727915      0.721311\n",
       "18            19        0.717314      0.713115\n",
       "19            20        0.717314      0.721311\n",
       "20            21        0.713781      0.729508\n",
       "21            22        0.731449      0.737705\n",
       "22            23        0.720848      0.729508\n",
       "23            24        0.713781      0.737705\n",
       "24            25        0.713781      0.721311\n",
       "25            26        0.713781      0.704918\n",
       "26            27        0.724382      0.713115\n",
       "27            28        0.710247      0.696721\n",
       "28            29        0.713781      0.721311\n",
       "29            30        0.713781      0.721311"
      ]
     },
     "execution_count": 109,
     "metadata": {},
     "output_type": "execute_result"
    }
   ],
   "source": [
    "results"
   ]
  },
  {
   "cell_type": "code",
   "execution_count": 110,
   "id": "11d27907-e8d5-40c7-aed4-62b6d0636c64",
   "metadata": {},
   "outputs": [
    {
     "data": {
      "image/png": "[encoded data removed]",
      "text/plain": [
       "<Figure size 360x360 with 1 Axes>"
      ]
     },
     "metadata": {
      "needs_background": "light"
     },
     "output_type": "display_data"
    }
   ],
   "source": [
    "results.plot(x='n_neighbours', y=['accuracy_train', 'accuracy_val'], figsize=(5, 5))\n",
    "plt.grid(axis='both')"
   ]
  },
  {
   "cell_type": "markdown",
   "id": "d98dfe33-d427-42d8-bb27-9f2745297aeb",
   "metadata": {},
   "source": [
    "According to the previous plot, we select n_neighbours = 25 as the best value for n_neighbours"
   ]
  },
  {
   "cell_type": "markdown",
   "id": "b67f25a8-b4bd-4a9a-9662-2c56d97c5ef6",
   "metadata": {},
   "source": [
    "# Tunning Weight"
   ]
  },
  {
   "cell_type": "code",
   "execution_count": 118,
   "id": "a64e92f4-80c1-4e40-a3b8-9c60c80f99dd",
   "metadata": {},
   "outputs": [],
   "source": [
    "weights_values = ['uniform', 'distance']\n",
    "accuracy_train_values = []\n",
    "accuracy_val_values = []\n",
    "\n",
    "for weights in weights_values:\n",
    "    model2 = KNeighborsClassifier(n_neighbors=25, weights=weights)\n",
    "    model2.fit(X_train, y_train)\n",
    "    y_pred_train = model2.predict(X_train)\n",
    "    y_pred_val = model2.predict(X_val)\n",
    "    accuracy_train = accuracy_score(y_train, y_pred_train)\n",
    "    accuracy_val = accuracy_score(y_val, y_pred_val)\n",
    "    accuracy_train_values.append(accuracy_train)\n",
    "    accuracy_val_values.append(accuracy_val)\n",
    "    \n",
    "results = pd.DataFrame({\n",
    "    'weights': weights_values,\n",
    "    'accuracy_train': accuracy_train_values,\n",
    "    'accuracy_val': accuracy_val_values\n",
    "})"
   ]
  },
  {
   "cell_type": "code",
   "execution_count": 119,
   "id": "981fd2a8-d762-43c6-bbbd-0c49e0a68a4a",
   "metadata": {},
   "outputs": [
    {
     "data": {
      "image/png": "[encoded data removed]",
      "text/plain": [
       "<Figure size 432x288 with 1 Axes>"
      ]
     },
     "metadata": {
      "needs_background": "light"
     },
     "output_type": "display_data"
    }
   ],
   "source": [
    "results.plot.bar(x='weights', y=['accuracy_train', 'accuracy_val'])\n",
    "plt.grid(axis='y')"
   ]
  },
  {
   "cell_type": "markdown",
   "id": "487beb44-3254-436a-9c80-d9120d59baee",
   "metadata": {},
   "source": [
    "According to the previous plot weights='uniform' is better than weights='distance'"
   ]
  },
  {
   "cell_type": "markdown",
   "id": "7b291a32-d720-456b-8bd6-8352edc008e9",
   "metadata": {},
   "source": [
    "# Final Test"
   ]
  },
  {
   "cell_type": "code",
   "execution_count": 165,
   "id": "c3171700-76d7-4d42-83b3-79cbd8de1d13",
   "metadata": {},
   "outputs": [
    {
     "name": "stdout",
     "output_type": "stream",
     "text": [
      "0.6896551724137931\n"
     ]
    }
   ],
   "source": [
    "best_model = KNeighborsClassifier(n_neighbors=25, weights='uniform')\n",
    "best_model.fit(X_train, y_train)\n",
    "y_pred_test = best_model.predict(X_test)\n",
    "accuracy_test = accuracy_score(y_test, y_pred_test)\n",
    "print(accuracy_test)"
   ]
  },
  {
   "cell_type": "markdown",
   "id": "6742012a-b67e-485a-81fc-7e13ac074c1e",
   "metadata": {},
   "source": [
    "# 2.Second Model Algorthim is Naive Bayes"
   ]
  },
  {
   "cell_type": "markdown",
   "id": "8f44d31b",
   "metadata": {},
   "source": [
    "We try different types of Naive Bayes classifiers "
   ]
  },
  {
   "cell_type": "code",
   "execution_count": 121,
   "id": "48e19524-7546-497f-b1bb-d5eb793c36c4",
   "metadata": {},
   "outputs": [
    {
     "data": {
      "text/html": [
       "<div>\n",
       "<style scoped>\n",
       "    .dataframe tbody tr th:only-of-type {\n",
       "        vertical-align: middle;\n",
       "    }\n",
       "\n",
       "    .dataframe tbody tr th {\n",
       "        vertical-align: top;\n",
       "    }\n",
       "\n",
       "    .dataframe thead th {\n",
       "        text-align: right;\n",
       "    }\n",
       "</style>\n",
       "<table border=\"1\" class=\"dataframe\">\n",
       "  <thead>\n",
       "    <tr style=\"text-align: right;\">\n",
       "      <th></th>\n",
       "      <th>Age</th>\n",
       "      <th>Total_Bilirubin</th>\n",
       "      <th>Direct_Bilirubin</th>\n",
       "      <th>Alkaline_Phosphotase</th>\n",
       "      <th>Alamine_Aminotransferase</th>\n",
       "      <th>Aspartate_Aminotransferase</th>\n",
       "      <th>Total_Protiens</th>\n",
       "      <th>Albumin</th>\n",
       "      <th>Albumin_and_Globulin_Ratio</th>\n",
       "      <th>Gender_Female</th>\n",
       "      <th>Gender_Male</th>\n",
       "    </tr>\n",
       "  </thead>\n",
       "  <tbody>\n",
       "    <tr>\n",
       "      <th>248</th>\n",
       "      <td>40</td>\n",
       "      <td>0.7</td>\n",
       "      <td>0.1</td>\n",
       "      <td>202</td>\n",
       "      <td>37</td>\n",
       "      <td>29</td>\n",
       "      <td>5.0</td>\n",
       "      <td>2.6</td>\n",
       "      <td>1.0</td>\n",
       "      <td>0</td>\n",
       "      <td>1</td>\n",
       "    </tr>\n",
       "    <tr>\n",
       "      <th>65</th>\n",
       "      <td>57</td>\n",
       "      <td>1.4</td>\n",
       "      <td>0.7</td>\n",
       "      <td>470</td>\n",
       "      <td>62</td>\n",
       "      <td>88</td>\n",
       "      <td>5.6</td>\n",
       "      <td>2.5</td>\n",
       "      <td>0.8</td>\n",
       "      <td>0</td>\n",
       "      <td>1</td>\n",
       "    </tr>\n",
       "    <tr>\n",
       "      <th>513</th>\n",
       "      <td>69</td>\n",
       "      <td>0.9</td>\n",
       "      <td>0.2</td>\n",
       "      <td>215</td>\n",
       "      <td>32</td>\n",
       "      <td>24</td>\n",
       "      <td>6.9</td>\n",
       "      <td>3.0</td>\n",
       "      <td>0.7</td>\n",
       "      <td>0</td>\n",
       "      <td>1</td>\n",
       "    </tr>\n",
       "    <tr>\n",
       "      <th>126</th>\n",
       "      <td>48</td>\n",
       "      <td>5.8</td>\n",
       "      <td>2.5</td>\n",
       "      <td>802</td>\n",
       "      <td>133</td>\n",
       "      <td>88</td>\n",
       "      <td>6.0</td>\n",
       "      <td>2.8</td>\n",
       "      <td>0.8</td>\n",
       "      <td>0</td>\n",
       "      <td>1</td>\n",
       "    </tr>\n",
       "    <tr>\n",
       "      <th>456</th>\n",
       "      <td>32</td>\n",
       "      <td>0.7</td>\n",
       "      <td>0.2</td>\n",
       "      <td>189</td>\n",
       "      <td>22</td>\n",
       "      <td>43</td>\n",
       "      <td>7.4</td>\n",
       "      <td>3.1</td>\n",
       "      <td>0.7</td>\n",
       "      <td>0</td>\n",
       "      <td>1</td>\n",
       "    </tr>\n",
       "  </tbody>\n",
       "</table>\n",
       "</div>"
      ],
      "text/plain": [
       "     Age  Total_Bilirubin  Direct_Bilirubin  Alkaline_Phosphotase  \\\n",
       "248   40              0.7               0.1                   202   \n",
       "65    57              1.4               0.7                   470   \n",
       "513   69              0.9               0.2                   215   \n",
       "126   48              5.8               2.5                   802   \n",
       "456   32              0.7               0.2                   189   \n",
       "\n",
       "     Alamine_Aminotransferase  Aspartate_Aminotransferase  Total_Protiens  \\\n",
       "248                        37                          29             5.0   \n",
       "65                         62                          88             5.6   \n",
       "513                        32                          24             6.9   \n",
       "126                       133                          88             6.0   \n",
       "456                        22                          43             7.4   \n",
       "\n",
       "     Albumin  Albumin_and_Globulin_Ratio  Gender_Female  Gender_Male  \n",
       "248      2.6                         1.0              0            1  \n",
       "65       2.5                         0.8              0            1  \n",
       "513      3.0                         0.7              0            1  \n",
       "126      2.8                         0.8              0            1  \n",
       "456      3.1                         0.7              0            1  "
      ]
     },
     "execution_count": 121,
     "metadata": {},
     "output_type": "execute_result"
    }
   ],
   "source": [
    "X.head()"
   ]
  },
  {
   "cell_type": "code",
   "execution_count": 122,
   "id": "d38503a4",
   "metadata": {},
   "outputs": [
    {
     "data": {
      "text/plain": [
       "248    1\n",
       "65     1\n",
       "513    1\n",
       "126    1\n",
       "456    2\n",
       "Name: Dataset, dtype: int64"
      ]
     },
     "execution_count": 122,
     "metadata": {},
     "output_type": "execute_result"
    }
   ],
   "source": [
    "y.head()"
   ]
  },
  {
   "cell_type": "markdown",
   "id": "f96a125f",
   "metadata": {},
   "source": [
    "## Helper function: Evaluate model"
   ]
  },
  {
   "cell_type": "code",
   "execution_count": 123,
   "id": "35fabe38",
   "metadata": {},
   "outputs": [],
   "source": [
    "def evaluate_model(model, X_train, y_train, X_val, y_val):\n",
    "    model.fit(X_train, y_train)\n",
    "    y_pred_train = model.predict(X_train)\n",
    "    y_pred_val = model.predict(X_val)\n",
    "    acc_train = accuracy_score(y_train, y_pred_train)\n",
    "    acc_val = accuracy_score(y_val, y_pred_val)\n",
    "    return (acc_train, acc_val)"
   ]
  },
  {
   "cell_type": "markdown",
   "id": "52cb2aeb",
   "metadata": {},
   "source": [
    "### Model 1: Gaussian Naive Bayes"
   ]
  },
  {
   "cell_type": "code",
   "execution_count": 124,
   "id": "66c21327",
   "metadata": {},
   "outputs": [
    {
     "name": "stdout",
     "output_type": "stream",
     "text": [
      "0.5512367491166078\n",
      "0.5\n"
     ]
    }
   ],
   "source": [
    "model1 = GaussianNB()\n",
    "acc_train1, acc_val1 = evaluate_model(model1, X_train, y_train, X_val, y_val)\n",
    "print(acc_train1)\n",
    "print(acc_val1)"
   ]
  },
  {
   "cell_type": "markdown",
   "id": "8130ad95",
   "metadata": {},
   "source": [
    "### Model 2: Complement Naive Bayes"
   ]
  },
  {
   "cell_type": "code",
   "execution_count": 125,
   "id": "80b3ed7d",
   "metadata": {},
   "outputs": [
    {
     "name": "stdout",
     "output_type": "stream",
     "text": [
      "0.5017667844522968\n",
      "0.45081967213114754\n"
     ]
    }
   ],
   "source": [
    "model2 = ComplementNB()\n",
    "acc_train2, acc_val2 = evaluate_model(model2, X_train, y_train, X_val, y_val)\n",
    "print(acc_train2)\n",
    "print(acc_val2)"
   ]
  },
  {
   "cell_type": "markdown",
   "id": "9f8626fa",
   "metadata": {},
   "source": [
    "### Model 3: Bernoulli Naive Bayes"
   ]
  },
  {
   "cell_type": "code",
   "execution_count": 126,
   "id": "7478085c",
   "metadata": {},
   "outputs": [
    {
     "name": "stdout",
     "output_type": "stream",
     "text": [
      "0.7137809187279152\n",
      "0.7377049180327869\n"
     ]
    }
   ],
   "source": [
    "model3 = BernoulliNB()\n",
    "acc_train3, acc_val3 = evaluate_model(model3, X_train, y_train, X_val, y_val)\n",
    "print(acc_train3)\n",
    "print(acc_val3)"
   ]
  },
  {
   "cell_type": "markdown",
   "id": "ee70edb4",
   "metadata": {},
   "source": [
    "### Model 4: Multinomial Naive Bayes"
   ]
  },
  {
   "cell_type": "code",
   "execution_count": 127,
   "id": "03d483f0",
   "metadata": {},
   "outputs": [
    {
     "name": "stdout",
     "output_type": "stream",
     "text": [
      "0.5017667844522968\n",
      "0.45081967213114754\n"
     ]
    }
   ],
   "source": [
    "model4 = MultinomialNB()\n",
    "acc_train4, acc_val4 = evaluate_model(model4, X_train, y_train, X_val, y_val)\n",
    "print(acc_train4)\n",
    "print(acc_val4)"
   ]
  },
  {
   "cell_type": "markdown",
   "id": "c3b99ab6",
   "metadata": {},
   "source": [
    "### Comparison of results (train/val)"
   ]
  },
  {
   "cell_type": "code",
   "execution_count": 128,
   "id": "06c642dd",
   "metadata": {},
   "outputs": [
    {
     "data": {
      "text/html": [
       "<div>\n",
       "<style scoped>\n",
       "    .dataframe tbody tr th:only-of-type {\n",
       "        vertical-align: middle;\n",
       "    }\n",
       "\n",
       "    .dataframe tbody tr th {\n",
       "        vertical-align: top;\n",
       "    }\n",
       "\n",
       "    .dataframe thead th {\n",
       "        text-align: right;\n",
       "    }\n",
       "</style>\n",
       "<table border=\"1\" class=\"dataframe\">\n",
       "  <thead>\n",
       "    <tr style=\"text-align: right;\">\n",
       "      <th></th>\n",
       "      <th>model</th>\n",
       "      <th>acc_train</th>\n",
       "      <th>acc_val</th>\n",
       "    </tr>\n",
       "  </thead>\n",
       "  <tbody>\n",
       "    <tr>\n",
       "      <th>0</th>\n",
       "      <td>GaussianNB</td>\n",
       "      <td>0.551237</td>\n",
       "      <td>0.500000</td>\n",
       "    </tr>\n",
       "    <tr>\n",
       "      <th>1</th>\n",
       "      <td>ComplementNB</td>\n",
       "      <td>0.501767</td>\n",
       "      <td>0.450820</td>\n",
       "    </tr>\n",
       "    <tr>\n",
       "      <th>2</th>\n",
       "      <td>BernoulliNB</td>\n",
       "      <td>0.713781</td>\n",
       "      <td>0.737705</td>\n",
       "    </tr>\n",
       "    <tr>\n",
       "      <th>3</th>\n",
       "      <td>MultinomialNB</td>\n",
       "      <td>0.501767</td>\n",
       "      <td>0.450820</td>\n",
       "    </tr>\n",
       "  </tbody>\n",
       "</table>\n",
       "</div>"
      ],
      "text/plain": [
       "           model  acc_train   acc_val\n",
       "0     GaussianNB   0.551237  0.500000\n",
       "1   ComplementNB   0.501767  0.450820\n",
       "2    BernoulliNB   0.713781  0.737705\n",
       "3  MultinomialNB   0.501767  0.450820"
      ]
     },
     "execution_count": 128,
     "metadata": {},
     "output_type": "execute_result"
    }
   ],
   "source": [
    "results = pd.DataFrame({\n",
    "    'model': ['GaussianNB', 'ComplementNB', 'BernoulliNB', 'MultinomialNB'],\n",
    "    'acc_train': [acc_train1, acc_train2, acc_train3, acc_train4],\n",
    "    'acc_val': [acc_val1, acc_val2, acc_val3, acc_val4],\n",
    "})\n",
    "\n",
    "results"
   ]
  },
  {
   "cell_type": "code",
   "execution_count": 129,
   "id": "aeccd8f1",
   "metadata": {},
   "outputs": [
    {
     "data": {
      "text/plain": [
       "<AxesSubplot:xlabel='model'>"
      ]
     },
     "execution_count": 129,
     "metadata": {},
     "output_type": "execute_result"
    },
    {
     "data": {
      "image/png": "[encoded data removed]",
      "text/plain": [
       "<Figure size 432x288 with 1 Axes>"
      ]
     },
     "metadata": {
      "needs_background": "light"
     },
     "output_type": "display_data"
    }
   ],
   "source": [
    "results.plot.bar(x='model', y=['acc_train', 'acc_val'])"
   ]
  },
  {
   "cell_type": "markdown",
   "id": "d13c68f5",
   "metadata": {},
   "source": [
    "### Testing best model"
   ]
  },
  {
   "cell_type": "code",
   "execution_count": 130,
   "id": "eb0e8fb6",
   "metadata": {},
   "outputs": [
    {
     "name": "stdout",
     "output_type": "stream",
     "text": [
      "0.7011494252873564\n"
     ]
    }
   ],
   "source": [
    "model_best = BernoulliNB()\n",
    "model_best.fit(X_train, y_train)\n",
    "y_pred_test = model_best.predict(X_test)\n",
    "print(accuracy_score(y_test, y_pred_test))"
   ]
  },
  {
   "cell_type": "markdown",
   "id": "bf2ef450-7252-4696-aab7-0df26f2748ea",
   "metadata": {},
   "source": [
    "# 3.Third Model Algorthim is Desision Tree"
   ]
  },
  {
   "cell_type": "markdown",
   "id": "31417d5d-19a2-4c79-8c85-d1cfc48fb723",
   "metadata": {},
   "source": [
    "# Decision Tree Classifier"
   ]
  },
  {
   "cell_type": "code",
   "execution_count": 131,
   "id": "fe4a207d-e45a-4581-b23c-89588a0fd4e3",
   "metadata": {},
   "outputs": [],
   "source": [
    "from sklearn.tree import DecisionTreeClassifier"
   ]
  },
  {
   "cell_type": "code",
   "execution_count": 132,
   "id": "b0e790f7-8848-4ef4-aa5e-746aff0ab350",
   "metadata": {},
   "outputs": [
    {
     "data": {
      "text/html": [
       "<div>\n",
       "<style scoped>\n",
       "    .dataframe tbody tr th:only-of-type {\n",
       "        vertical-align: middle;\n",
       "    }\n",
       "\n",
       "    .dataframe tbody tr th {\n",
       "        vertical-align: top;\n",
       "    }\n",
       "\n",
       "    .dataframe thead th {\n",
       "        text-align: right;\n",
       "    }\n",
       "</style>\n",
       "<table border=\"1\" class=\"dataframe\">\n",
       "  <thead>\n",
       "    <tr style=\"text-align: right;\">\n",
       "      <th></th>\n",
       "      <th>max_depth</th>\n",
       "      <th>acc_train</th>\n",
       "      <th>acc_val</th>\n",
       "    </tr>\n",
       "  </thead>\n",
       "  <tbody>\n",
       "    <tr>\n",
       "      <th>0</th>\n",
       "      <td>1</td>\n",
       "      <td>0.688272</td>\n",
       "      <td>0.516393</td>\n",
       "    </tr>\n",
       "    <tr>\n",
       "      <th>1</th>\n",
       "      <td>2</td>\n",
       "      <td>0.709877</td>\n",
       "      <td>0.721311</td>\n",
       "    </tr>\n",
       "    <tr>\n",
       "      <th>2</th>\n",
       "      <td>3</td>\n",
       "      <td>0.768519</td>\n",
       "      <td>0.663934</td>\n",
       "    </tr>\n",
       "    <tr>\n",
       "      <th>3</th>\n",
       "      <td>4</td>\n",
       "      <td>0.802469</td>\n",
       "      <td>0.647541</td>\n",
       "    </tr>\n",
       "    <tr>\n",
       "      <th>4</th>\n",
       "      <td>5</td>\n",
       "      <td>0.848765</td>\n",
       "      <td>0.655738</td>\n",
       "    </tr>\n",
       "    <tr>\n",
       "      <th>5</th>\n",
       "      <td>6</td>\n",
       "      <td>0.873457</td>\n",
       "      <td>0.598361</td>\n",
       "    </tr>\n",
       "    <tr>\n",
       "      <th>6</th>\n",
       "      <td>7</td>\n",
       "      <td>0.891975</td>\n",
       "      <td>0.631148</td>\n",
       "    </tr>\n",
       "    <tr>\n",
       "      <th>7</th>\n",
       "      <td>8</td>\n",
       "      <td>0.919753</td>\n",
       "      <td>0.598361</td>\n",
       "    </tr>\n",
       "    <tr>\n",
       "      <th>8</th>\n",
       "      <td>9</td>\n",
       "      <td>0.938272</td>\n",
       "      <td>0.573770</td>\n",
       "    </tr>\n",
       "    <tr>\n",
       "      <th>9</th>\n",
       "      <td>10</td>\n",
       "      <td>0.966049</td>\n",
       "      <td>0.606557</td>\n",
       "    </tr>\n",
       "    <tr>\n",
       "      <th>10</th>\n",
       "      <td>11</td>\n",
       "      <td>0.984568</td>\n",
       "      <td>0.573770</td>\n",
       "    </tr>\n",
       "    <tr>\n",
       "      <th>11</th>\n",
       "      <td>12</td>\n",
       "      <td>0.984568</td>\n",
       "      <td>0.614754</td>\n",
       "    </tr>\n",
       "    <tr>\n",
       "      <th>12</th>\n",
       "      <td>13</td>\n",
       "      <td>1.000000</td>\n",
       "      <td>0.631148</td>\n",
       "    </tr>\n",
       "    <tr>\n",
       "      <th>13</th>\n",
       "      <td>14</td>\n",
       "      <td>1.000000</td>\n",
       "      <td>0.631148</td>\n",
       "    </tr>\n",
       "    <tr>\n",
       "      <th>14</th>\n",
       "      <td>15</td>\n",
       "      <td>1.000000</td>\n",
       "      <td>0.631148</td>\n",
       "    </tr>\n",
       "    <tr>\n",
       "      <th>15</th>\n",
       "      <td>16</td>\n",
       "      <td>1.000000</td>\n",
       "      <td>0.631148</td>\n",
       "    </tr>\n",
       "    <tr>\n",
       "      <th>16</th>\n",
       "      <td>17</td>\n",
       "      <td>1.000000</td>\n",
       "      <td>0.631148</td>\n",
       "    </tr>\n",
       "    <tr>\n",
       "      <th>17</th>\n",
       "      <td>18</td>\n",
       "      <td>1.000000</td>\n",
       "      <td>0.631148</td>\n",
       "    </tr>\n",
       "    <tr>\n",
       "      <th>18</th>\n",
       "      <td>19</td>\n",
       "      <td>1.000000</td>\n",
       "      <td>0.631148</td>\n",
       "    </tr>\n",
       "    <tr>\n",
       "      <th>19</th>\n",
       "      <td>20</td>\n",
       "      <td>1.000000</td>\n",
       "      <td>0.631148</td>\n",
       "    </tr>\n",
       "  </tbody>\n",
       "</table>\n",
       "</div>"
      ],
      "text/plain": [
       "    max_depth  acc_train   acc_val\n",
       "0           1   0.688272  0.516393\n",
       "1           2   0.709877  0.721311\n",
       "2           3   0.768519  0.663934\n",
       "3           4   0.802469  0.647541\n",
       "4           5   0.848765  0.655738\n",
       "5           6   0.873457  0.598361\n",
       "6           7   0.891975  0.631148\n",
       "7           8   0.919753  0.598361\n",
       "8           9   0.938272  0.573770\n",
       "9          10   0.966049  0.606557\n",
       "10         11   0.984568  0.573770\n",
       "11         12   0.984568  0.614754\n",
       "12         13   1.000000  0.631148\n",
       "13         14   1.000000  0.631148\n",
       "14         15   1.000000  0.631148\n",
       "15         16   1.000000  0.631148\n",
       "16         17   1.000000  0.631148\n",
       "17         18   1.000000  0.631148\n",
       "18         19   1.000000  0.631148\n",
       "19         20   1.000000  0.631148"
      ]
     },
     "execution_count": 132,
     "metadata": {},
     "output_type": "execute_result"
    }
   ],
   "source": [
    "max_depth_values = list(range(1, 21))\n",
    "acc_train_values = []\n",
    "acc_val_values = []\n",
    "\n",
    "for max_depth in max_depth_values:\n",
    "    model = DecisionTreeClassifier(max_depth=max_depth, random_state=0)\n",
    "    model.fit(X_train_balanced, y_train_balanced)\n",
    "    y_pred_train = model.predict(X_train_balanced)\n",
    "    y_pred_val = model.predict(X_val)\n",
    "    acc_train = accuracy_score(y_train_balanced, y_pred_train)\n",
    "    acc_val = accuracy_score(y_val, y_pred_val)\n",
    "    acc_train_values.append(acc_train)\n",
    "    acc_val_values.append(acc_val)\n",
    "    \n",
    "results = pd.DataFrame({\n",
    "    'max_depth': max_depth_values,\n",
    "    'acc_train': acc_train_values,\n",
    "    'acc_val': acc_val_values,\n",
    "})\n",
    "results"
   ]
  },
  {
   "cell_type": "code",
   "execution_count": 133,
   "id": "e942a41b-fb9a-4b03-a26c-88bca3705823",
   "metadata": {},
   "outputs": [
    {
     "data": {
      "image/png": "[encoded data removed]",
      "text/plain": [
       "<Figure size 720x432 with 1 Axes>"
      ]
     },
     "metadata": {
      "needs_background": "light"
     },
     "output_type": "display_data"
    }
   ],
   "source": [
    "results.plot(x='max_depth', y=['acc_train', 'acc_val'], figsize=(10, 6))\n",
    "plt.xticks(np.arange(1, 21))\n",
    "plt.grid(axis='both')\n",
    "plt.show()"
   ]
  },
  {
   "cell_type": "markdown",
   "id": "0a421562-167c-477c-b549-98ead52bf81d",
   "metadata": {},
   "source": [
    "### We select `max_depth = 2`"
   ]
  },
  {
   "cell_type": "code",
   "execution_count": 153,
   "id": "b359606f-41c9-4cee-a477-a5c428d11ef8",
   "metadata": {},
   "outputs": [
    {
     "data": {
      "text/html": [
       "<div>\n",
       "<style scoped>\n",
       "    .dataframe tbody tr th:only-of-type {\n",
       "        vertical-align: middle;\n",
       "    }\n",
       "\n",
       "    .dataframe tbody tr th {\n",
       "        vertical-align: top;\n",
       "    }\n",
       "\n",
       "    .dataframe thead th {\n",
       "        text-align: right;\n",
       "    }\n",
       "</style>\n",
       "<table border=\"1\" class=\"dataframe\">\n",
       "  <thead>\n",
       "    <tr style=\"text-align: right;\">\n",
       "      <th></th>\n",
       "      <th>criterion</th>\n",
       "      <th>acc_train</th>\n",
       "      <th>acc_val</th>\n",
       "    </tr>\n",
       "  </thead>\n",
       "  <tbody>\n",
       "    <tr>\n",
       "      <th>0</th>\n",
       "      <td>gini</td>\n",
       "      <td>0.709877</td>\n",
       "      <td>0.721311</td>\n",
       "    </tr>\n",
       "    <tr>\n",
       "      <th>1</th>\n",
       "      <td>entropy</td>\n",
       "      <td>0.709877</td>\n",
       "      <td>0.721311</td>\n",
       "    </tr>\n",
       "  </tbody>\n",
       "</table>\n",
       "</div>"
      ],
      "text/plain": [
       "  criterion  acc_train   acc_val\n",
       "0      gini   0.709877  0.721311\n",
       "1   entropy   0.709877  0.721311"
      ]
     },
     "execution_count": 153,
     "metadata": {},
     "output_type": "execute_result"
    }
   ],
   "source": [
    "criterion_values = ['gini', 'entropy']\n",
    "acc_train_values = []\n",
    "acc_val_values = []\n",
    "\n",
    "for criterion in criterion_values:\n",
    "    model = DecisionTreeClassifier(max_depth=2, criterion=criterion, random_state=0)\n",
    "    model.fit(X_train_balanced, y_train_balanced)\n",
    "    y_pred_train = model.predict(X_train_balanced)\n",
    "    y_pred_val = model.predict(X_val)\n",
    "    acc_train = accuracy_score(y_train_balanced, y_pred_train)\n",
    "    acc_val = accuracy_score(y_val, y_pred_val)\n",
    "    acc_train_values.append(acc_train)\n",
    "    acc_val_values.append(acc_val)\n",
    "    \n",
    "results = pd.DataFrame({\n",
    "    'criterion': criterion_values,\n",
    "    'acc_train': acc_train_values,\n",
    "    'acc_val': acc_val_values,\n",
    "})\n",
    "\n",
    "results"
   ]
  },
  {
   "cell_type": "markdown",
   "id": "28cfa4b1-9652-464d-9392-7d636528baa6",
   "metadata": {},
   "source": [
    "### Gini and entropy the same "
   ]
  },
  {
   "cell_type": "code",
   "execution_count": 154,
   "id": "e025866d-eb2e-4db7-a9cd-a8e0872cda03",
   "metadata": {},
   "outputs": [
    {
     "data": {
      "image/png": "[encoded data removed]",
      "text/plain": [
       "<Figure size 720x432 with 1 Axes>"
      ]
     },
     "metadata": {
      "needs_background": "light"
     },
     "output_type": "display_data"
    }
   ],
   "source": [
    "results.plot.bar(x='criterion', y=['acc_train', 'acc_val'], figsize=(10, 6))\n",
    "plt.grid(axis='y')\n",
    "plt.yticks(np.arange(0.0, 1.1, 0.1))\n",
    "plt.show()"
   ]
  },
  {
   "cell_type": "markdown",
   "id": "494bc2d3-ea1b-4cb9-9e73-c34c48ea501f",
   "metadata": {},
   "source": [
    "# best model"
   ]
  },
  {
   "cell_type": "code",
   "execution_count": 156,
   "id": "5fa2fcb1-dc0f-4207-922f-49c3c52f734f",
   "metadata": {},
   "outputs": [
    {
     "data": {
      "text/plain": [
       "DecisionTreeClassifier(max_depth=2, random_state=0)"
      ]
     },
     "execution_count": 156,
     "metadata": {},
     "output_type": "execute_result"
    }
   ],
   "source": [
    "model_best = DecisionTreeClassifier(max_depth=2, criterion='gini', random_state=0)\n",
    "model_best.fit(X_train_balanced, y_train_balanced)"
   ]
  },
  {
   "cell_type": "code",
   "execution_count": 157,
   "id": "a6456290-5c13-450f-8de1-6e45e9c80a57",
   "metadata": {},
   "outputs": [
    {
     "data": {
      "text/plain": [
       "Index(['Age', 'Total_Bilirubin', 'Direct_Bilirubin', 'Alkaline_Phosphotase',\n",
       "       'Alamine_Aminotransferase', 'Aspartate_Aminotransferase',\n",
       "       'Total_Protiens', 'Albumin', 'Albumin_and_Globulin_Ratio',\n",
       "       'Gender_Female', 'Gender_Male'],\n",
       "      dtype='object')"
      ]
     },
     "execution_count": 157,
     "metadata": {},
     "output_type": "execute_result"
    }
   ],
   "source": [
    "X_train_balanced.columns"
   ]
  },
  {
   "cell_type": "markdown",
   "id": "ebf65e2e-69a8-45ad-90e9-3e4587e6080d",
   "metadata": {},
   "source": [
    "### Analysing feature importances"
   ]
  },
  {
   "cell_type": "code",
   "execution_count": 158,
   "id": "9b36eec8-81ec-4173-8aca-519435879ce3",
   "metadata": {},
   "outputs": [
    {
     "data": {
      "image/png": "[encoded data removed]",
      "text/plain": [
       "<Figure size 720x360 with 1 Axes>"
      ]
     },
     "metadata": {
      "needs_background": "light"
     },
     "output_type": "display_data"
    }
   ],
   "source": [
    "plt.figure(figsize=(10, 5))\n",
    "plt.bar(X_train_balanced.columns, model_best.feature_importances_)\n",
    "plt.xticks(rotation=90)\n",
    "plt.show()"
   ]
  },
  {
   "cell_type": "markdown",
   "id": "35be70d2-9e65-4904-8ef7-6d9e98e68964",
   "metadata": {},
   "source": [
    "# Visualizing our model"
   ]
  },
  {
   "cell_type": "code",
   "execution_count": 159,
   "id": "d2b8f97e-c4ea-46d9-b335-eb023aea1d9b",
   "metadata": {},
   "outputs": [
    {
     "data": {
      "image/png": "[encoded data removed]",
      "text/plain": [
       "<Figure size 1080x360 with 1 Axes>"
      ]
     },
     "metadata": {
      "needs_background": "light"
     },
     "output_type": "display_data"
    }
   ],
   "source": [
    "from sklearn.tree import plot_tree\n",
    "\n",
    "plt.figure(figsize=(15, 5))\n",
    "plot_tree(model_best, feature_names=X_train.columns, class_names=['negative', 'positive'])\n",
    "plt.show()"
   ]
  },
  {
   "cell_type": "markdown",
   "id": "99b14619-b1a5-4807-afcd-a060b7dd661a",
   "metadata": {},
   "source": [
    "# testing our model"
   ]
  },
  {
   "cell_type": "code",
   "execution_count": 160,
   "id": "dd38861d-9bf6-47cf-9bb1-d85ce60a987f",
   "metadata": {},
   "outputs": [
    {
     "name": "stdout",
     "output_type": "stream",
     "text": [
      "0.632183908045977\n"
     ]
    }
   ],
   "source": [
    "y_pred_test = model_best.predict(X_test)\n",
    "print(accuracy_score(y_test, y_pred_test))"
   ]
  },
  {
   "cell_type": "code",
   "execution_count": 161,
   "id": "d2ad90de-bc35-4ed9-9437-f8351e11c1f7",
   "metadata": {},
   "outputs": [
    {
     "name": "stdout",
     "output_type": "stream",
     "text": [
      "[[79 43]\n",
      " [21 31]]\n"
     ]
    }
   ],
   "source": [
    "from sklearn.metrics import confusion_matrix\n",
    "print(confusion_matrix(y_test, y_pred_test))"
   ]
  },
  {
   "cell_type": "code",
   "execution_count": 162,
   "id": "2e8f64c4",
   "metadata": {},
   "outputs": [],
   "source": [
    "# to ignore warrings\n",
    "import warnings\n",
    "warnings.filterwarnings('ignore')"
   ]
  },
  {
   "cell_type": "markdown",
   "id": "ad20da48-4614-4830-9ddd-79f1deaf610d",
   "metadata": {},
   "source": [
    "# Fourth model Algorthim is Logistic Regression"
   ]
  },
  {
   "cell_type": "code",
   "execution_count": 143,
   "id": "e778d149-e45f-4bca-8ec4-58b68f50e657",
   "metadata": {},
   "outputs": [
    {
     "data": {
      "text/plain": [
       "(0.7098765432098766, 0.639344262295082)"
      ]
     },
     "execution_count": 143,
     "metadata": {},
     "output_type": "execute_result"
    }
   ],
   "source": [
    "from sklearn.linear_model import LogisticRegression\n",
    "from sklearn.pipeline import Pipeline\n",
    "#from sklearn.preprocessing import StandardScaler\n",
    "\n",
    "model = Pipeline([\n",
    "  #('feature_scaling', StandardScaler()),\n",
    "    ('logistic_regression', LogisticRegression(random_state=0))\n",
    "])\n",
    "evaluate_model(model, X_train_balanced, y_train_balanced, X_val, y_val)"
   ]
  },
  {
   "cell_type": "code",
   "execution_count": 144,
   "id": "316413c7-3fd1-4d36-8fc4-641eff28cc51",
   "metadata": {},
   "outputs": [
    {
     "data": {
      "text/html": [
       "<div>\n",
       "<style scoped>\n",
       "    .dataframe tbody tr th:only-of-type {\n",
       "        vertical-align: middle;\n",
       "    }\n",
       "\n",
       "    .dataframe tbody tr th {\n",
       "        vertical-align: top;\n",
       "    }\n",
       "\n",
       "    .dataframe thead th {\n",
       "        text-align: right;\n",
       "    }\n",
       "</style>\n",
       "<table border=\"1\" class=\"dataframe\">\n",
       "  <thead>\n",
       "    <tr style=\"text-align: right;\">\n",
       "      <th></th>\n",
       "      <th>C</th>\n",
       "      <th>acc_train</th>\n",
       "      <th>acc_val</th>\n",
       "    </tr>\n",
       "  </thead>\n",
       "  <tbody>\n",
       "    <tr>\n",
       "      <th>0</th>\n",
       "      <td>0.00001</td>\n",
       "      <td>0.694444</td>\n",
       "      <td>0.581967</td>\n",
       "    </tr>\n",
       "    <tr>\n",
       "      <th>1</th>\n",
       "      <td>0.00100</td>\n",
       "      <td>0.688272</td>\n",
       "      <td>0.647541</td>\n",
       "    </tr>\n",
       "    <tr>\n",
       "      <th>2</th>\n",
       "      <td>0.01000</td>\n",
       "      <td>0.712963</td>\n",
       "      <td>0.655738</td>\n",
       "    </tr>\n",
       "    <tr>\n",
       "      <th>3</th>\n",
       "      <td>0.10000</td>\n",
       "      <td>0.716049</td>\n",
       "      <td>0.631148</td>\n",
       "    </tr>\n",
       "    <tr>\n",
       "      <th>4</th>\n",
       "      <td>1.00000</td>\n",
       "      <td>0.709877</td>\n",
       "      <td>0.639344</td>\n",
       "    </tr>\n",
       "    <tr>\n",
       "      <th>5</th>\n",
       "      <td>10.00000</td>\n",
       "      <td>0.703704</td>\n",
       "      <td>0.614754</td>\n",
       "    </tr>\n",
       "    <tr>\n",
       "      <th>6</th>\n",
       "      <td>100.00000</td>\n",
       "      <td>0.703704</td>\n",
       "      <td>0.614754</td>\n",
       "    </tr>\n",
       "    <tr>\n",
       "      <th>7</th>\n",
       "      <td>1000.00000</td>\n",
       "      <td>0.703704</td>\n",
       "      <td>0.614754</td>\n",
       "    </tr>\n",
       "    <tr>\n",
       "      <th>8</th>\n",
       "      <td>10000.00000</td>\n",
       "      <td>0.719136</td>\n",
       "      <td>0.631148</td>\n",
       "    </tr>\n",
       "  </tbody>\n",
       "</table>\n",
       "</div>"
      ],
      "text/plain": [
       "             C  acc_train   acc_val\n",
       "0      0.00001   0.694444  0.581967\n",
       "1      0.00100   0.688272  0.647541\n",
       "2      0.01000   0.712963  0.655738\n",
       "3      0.10000   0.716049  0.631148\n",
       "4      1.00000   0.709877  0.639344\n",
       "5     10.00000   0.703704  0.614754\n",
       "6    100.00000   0.703704  0.614754\n",
       "7   1000.00000   0.703704  0.614754\n",
       "8  10000.00000   0.719136  0.631148"
      ]
     },
     "execution_count": 144,
     "metadata": {},
     "output_type": "execute_result"
    }
   ],
   "source": [
    "C_values = [0.00001, 0.001, 0.01, 0.1, 1, 10, 100, 1000, 10000]\n",
    "acc_train_values = []\n",
    "acc_val_values = []\n",
    "\n",
    "for C in C_values:\n",
    "    model = Pipeline([\n",
    "        #('feature_scaling', StandardScaler()),\n",
    "        ('logistic_regression', LogisticRegression(C=C, random_state=0))\n",
    "    ])\n",
    "    acc_train, acc_val = evaluate_model(model, X_train_balanced, y_train_balanced, X_val, y_val)\n",
    "    acc_train_values.append(acc_train)\n",
    "    acc_val_values.append(acc_val)\n",
    "\n",
    "results = pd.DataFrame({\n",
    "    'C': C_values,\n",
    "    'acc_train': acc_train_values,\n",
    "    'acc_val': acc_val_values\n",
    "})\n",
    "\n",
    "results"
   ]
  },
  {
   "cell_type": "code",
   "execution_count": 145,
   "id": "c3c580b4-6e34-4ab4-9dee-f5484c9a98b0",
   "metadata": {},
   "outputs": [
    {
     "data": {
      "image/png": "[encoded data removed]",
      "text/plain": [
       "<Figure size 864x576 with 1 Axes>"
      ]
     },
     "metadata": {
      "needs_background": "light"
     },
     "output_type": "display_data"
    }
   ],
   "source": [
    "results.plot.bar(x='C', y=['acc_train', 'acc_val'], figsize=(12, 8))\n",
    "plt.yticks(np.arange(0.0, 1.1, 0.1))\n",
    "plt.grid(axis='y')\n",
    "plt.show()"
   ]
  },
  {
   "cell_type": "markdown",
   "id": "03ec837b-dfdd-46c0-959a-3c51862320d8",
   "metadata": {},
   "source": [
    "# Best model"
   ]
  },
  {
   "cell_type": "code",
   "execution_count": 146,
   "id": "742008bc-7ba6-449e-a187-d79db7139dce",
   "metadata": {},
   "outputs": [
    {
     "name": "stdout",
     "output_type": "stream",
     "text": [
      "0.7241379310344828\n"
     ]
    }
   ],
   "source": [
    "model_best = Pipeline([\n",
    "   # ('feature_scaling', StandardScaler()),\n",
    "    ('logistic_regression', LogisticRegression(C=0.001,random_state=0))\n",
    "])\n",
    "model_best.fit(X_train, y_train)\n",
    "y_pred_test = model_best.predict(X_test)\n",
    "print(accuracy_score(y_test, y_pred_test))"
   ]
  },
  {
   "cell_type": "code",
   "execution_count": null,
   "id": "33c3b601",
   "metadata": {},
   "outputs": [],
   "source": []
  }
 ],
 "metadata": {
  "kernelspec": {
   "display_name": "Python 3 (ipykernel)",
   "language": "python",
   "name": "python3"
  },
  "language_info": {
   "codemirror_mode": {
    "name": "ipython",
    "version": 3
   },
   "file_extension": ".py",
   "mimetype": "text/x-python",
   "name": "python",
   "nbconvert_exporter": "python",
   "pygments_lexer": "ipython3",
   "version": "3.9.7"
  }
 },
 "nbformat": 4,
 "nbformat_minor": 5
}
